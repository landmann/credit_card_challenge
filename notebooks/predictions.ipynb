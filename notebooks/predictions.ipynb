{
 "cells": [
  {
   "cell_type": "code",
   "execution_count": 1,
   "metadata": {
    "ExecuteTime": {
     "end_time": "2020-12-30T05:23:29.548261Z",
     "start_time": "2020-12-30T05:23:27.289422Z"
    }
   },
   "outputs": [],
   "source": [
    "import pandas as pd\n",
    "import numpy as np\n",
    "import seaborn as sns\n",
    "import sklearn\n",
    "\n",
    "import matplotlib.pyplot as plt\n",
    "plt.rcParams['figure.figsize'] = [18, 5]\n",
    "plt.rcParams['axes.grid'] = True\n",
    "import warnings\n",
    "warnings.simplefilter(action='ignore', category=FutureWarning)\n",
    "\n",
    "import matplotlib\n",
    "font = {'family' : 'normal',\n",
    "        'size'   : 12}\n",
    "matplotlib.rc('font', **font)\n",
    "pd.set_option('display.max_rows', 200)\n",
    "pd.set_option('precision', 4)\n",
    "\n",
    "# modeling \n",
    "import lightgbm as lgb\n",
    "import autofeat\n",
    "\n",
    "# utilities\n",
    "from sklearn.model_selection import train_test_split\n",
    "from sklearn.model_selection import KFold\n",
    "from sklearn.metrics import roc_auc_score\n",
    "from sklearn.preprocessing import LabelEncoder\n",
    "from sklearn.metrics import classification_report, confusion_matrix"
   ]
  },
  {
   "cell_type": "code",
   "execution_count": 2,
   "metadata": {
    "ExecuteTime": {
     "end_time": "2020-12-30T05:23:30.312885Z",
     "start_time": "2020-12-30T05:23:30.187169Z"
    }
   },
   "outputs": [],
   "source": [
    "# Load data\n",
    "data = pd.read_csv('../dataset/processed_data.csv', index_col=0)\n",
    "data.rename({'default.payment.next.month': 'default'}, axis=1, inplace=True)\n",
    "data.default = data.default.astype(bool)"
   ]
  },
  {
   "cell_type": "code",
   "execution_count": 3,
   "metadata": {
    "ExecuteTime": {
     "end_time": "2020-12-30T05:23:30.534070Z",
     "start_time": "2020-12-30T05:23:30.531076Z"
    }
   },
   "outputs": [],
   "source": [
    "TEST_SIZE = 0.10\n",
    "\n",
    "KFOLDS = 5 #number of KFolds for cross-validation\n",
    "SEED = 7\n",
    "\n",
    "TARGET = 'default'"
   ]
  },
  {
   "cell_type": "markdown",
   "metadata": {},
   "source": [
    "# Part 2 - Training Models\n",
    "\n",
    "In the previous notebook we achieved the following metrics using a simple LGBTClassifier without any hyperparameter tuning and using 5 folds in our cross validation.\n",
    "\n",
    "              precision    recall  f1-score   support\n",
    "\n",
    "       False       0.86      0.92      0.89       776\n",
    "        True       0.63      0.49      0.55       224\n",
    "\n",
    "    accuracy                           0.82      1000\n",
    "    macro avg      0.75      0.70      0.72      1000\n",
    "    weighted avg   0.81      0.82      0.81      1000\n",
    "\n",
    "ROC AUC Score:  `0.702`\n",
    "\n",
    "In this notebook we'll tune the GBT and then form an ensemble with other models.\n",
    "The best model will be selected for production"
   ]
  },
  {
   "cell_type": "code",
   "execution_count": 4,
   "metadata": {
    "ExecuteTime": {
     "end_time": "2020-12-30T05:23:31.118818Z",
     "start_time": "2020-12-30T05:23:31.116760Z"
    }
   },
   "outputs": [],
   "source": [
    "predictions = {}"
   ]
  },
  {
   "cell_type": "markdown",
   "metadata": {},
   "source": [
    "#  Train/Test Splits\n",
    "\n",
    "Because all the engineered features are generated from a single sample, there is no leaking of data into\n",
    "the test set."
   ]
  },
  {
   "cell_type": "code",
   "execution_count": 5,
   "metadata": {
    "ExecuteTime": {
     "end_time": "2020-12-30T05:23:31.720146Z",
     "start_time": "2020-12-30T05:23:31.717942Z"
    }
   },
   "outputs": [],
   "source": [
    "from sklearn.model_selection import train_test_split\n",
    "from sklearn.metrics import roc_auc_score"
   ]
  },
  {
   "cell_type": "code",
   "execution_count": 6,
   "metadata": {
    "ExecuteTime": {
     "end_time": "2020-12-30T05:23:31.905999Z",
     "start_time": "2020-12-30T05:23:31.887306Z"
    }
   },
   "outputs": [],
   "source": [
    "xtrain, xtest, ytrain, ytest = train_test_split(data.drop('default', axis=1),\n",
    "                                                data['default'], \n",
    "                                                test_size = TEST_SIZE, \n",
    "                                                stratify=data['default'],\n",
    "                                                random_state = SEED,\n",
    "                                                shuffle=True)"
   ]
  },
  {
   "cell_type": "code",
   "execution_count": 7,
   "metadata": {
    "ExecuteTime": {
     "end_time": "2020-12-30T05:23:32.036323Z",
     "start_time": "2020-12-30T05:23:32.032139Z"
    }
   },
   "outputs": [],
   "source": [
    "def score(y_pred, ytest=ytest):\n",
    "    cm = confusion_matrix(y_true = ytest, y_pred=y_pred)\n",
    "    cmatrix = pd.DataFrame(data=cm, index=['Actual Non-Default', 'Actual Default'], \n",
    "                                     columns=['Predict Non-Default', 'Predict Default'])\n",
    "    plt.figure(figsize=(10, 3))\n",
    "    sns.heatmap(cmatrix, cmap='Blues', annot=True, fmt='d');\n",
    "    print(classification_report(ytest, y_pred))\n",
    "    print(\"ROC AUC Score: \", roc_auc_score(ytest, y_pred, average='weighted'))"
   ]
  },
  {
   "cell_type": "markdown",
   "metadata": {},
   "source": [
    "# Model Building"
   ]
  },
  {
   "cell_type": "code",
   "execution_count": 8,
   "metadata": {
    "ExecuteTime": {
     "end_time": "2020-12-30T05:23:33.687801Z",
     "start_time": "2020-12-30T05:23:33.091513Z"
    }
   },
   "outputs": [],
   "source": [
    "from sklearn.metrics import roc_auc_score\n",
    "from sklearn.model_selection import KFold\n",
    "from tpot import TPOTClassifier"
   ]
  },
  {
   "cell_type": "code",
   "execution_count": 98,
   "metadata": {},
   "outputs": [
    {
     "data": {
      "application/vnd.jupyter.widget-view+json": {
       "model_id": "",
       "version_major": 2,
       "version_minor": 0
      },
      "text/plain": [
       "HBox(children=(HTML(value='Optimization Progress'), FloatProgress(value=0.0, max=50.0), HTML(value='')))"
      ]
     },
     "metadata": {},
     "output_type": "display_data"
    },
    {
     "name": "stdout",
     "output_type": "stream",
     "text": [
      "\n",
      "Generation 1 - Current best internal CV score: 0.8035555555555556\n",
      "\n",
      "Generation 2 - Current best internal CV score: 0.8161111111111111\n",
      "\n",
      "Generation 3 - Current best internal CV score: 0.8161111111111111\n",
      "\n",
      "5.02 minutes have elapsed. TPOT will close down.\n",
      "TPOT closed during evaluation in one generation.\n",
      "WARNING: TPOT may not provide a good pipeline if TPOT is stopped/interrupted in a early generation.\n",
      "\n",
      "\n",
      "TPOT closed prematurely. Will use the current best pipeline.\n",
      "\n",
      "Best pipeline: KNeighborsClassifier(SelectPercentile(input_matrix, percentile=1), n_neighbors=95, p=1, weights=distance)\n"
     ]
    }
   ],
   "source": [
    "# These hyperparameters are standard kaggle recommended ones.\n",
    "tpot = TPOTClassifier(verbosity=2, \n",
    "                      max_time_mins=5, \n",
    "                      cv=5,\n",
    "                      max_eval_time_mins=0.04, \n",
    "                      population_size=50,\n",
    "                      generations=6)\n",
    "tpot.fit(xtrain, ytrain)\n",
    "y_pred = tpot.predict(xtest)"
   ]
  },
  {
   "cell_type": "code",
   "execution_count": 99,
   "metadata": {},
   "outputs": [
    {
     "name": "stdout",
     "output_type": "stream",
     "text": [
      "              precision    recall  f1-score   support\n",
      "\n",
      "       False       0.83      0.96      0.89       776\n",
      "        True       0.71      0.31      0.43       224\n",
      "\n",
      "    accuracy                           0.82      1000\n",
      "   macro avg       0.77      0.64      0.66      1000\n",
      "weighted avg       0.80      0.82      0.79      1000\n",
      "\n",
      "ROC AUC Score:  0.6359766200294552\n"
     ]
    },
    {
     "data": {
      "image/png": "[encoded data removed]",
      "text/plain": [
       "<Figure size 720x216 with 2 Axes>"
      ]
     },
     "metadata": {
      "needs_background": "light"
     },
     "output_type": "display_data"
    }
   ],
   "source": [
    "score(y_pred)"
   ]
  },
  {
   "cell_type": "markdown",
   "metadata": {},
   "source": [
    "For some reason, TPOT is not able to learn as well as LGBMClassifier so we won't add it to our predictions set."
   ]
  },
  {
   "cell_type": "markdown",
   "metadata": {},
   "source": [
    "## LGBM Feature Selection"
   ]
  },
  {
   "cell_type": "code",
   "execution_count": 9,
   "metadata": {
    "ExecuteTime": {
     "end_time": "2020-12-30T05:24:44.930741Z",
     "start_time": "2020-12-30T05:24:44.928014Z"
    }
   },
   "outputs": [],
   "source": [
    "from sklearn.model_selection import StratifiedKFold\n",
    "from lightgbm import LGBMClassifier\n",
    "import gc"
   ]
  },
  {
   "cell_type": "raw",
   "metadata": {},
   "source": [
    "For good measure, we add our previous best example below."
   ]
  },
  {
   "cell_type": "code",
   "execution_count": 10,
   "metadata": {
    "ExecuteTime": {
     "end_time": "2020-12-30T05:24:49.576807Z",
     "start_time": "2020-12-30T05:24:49.567513Z"
    }
   },
   "outputs": [],
   "source": [
    "def kfold_lightgbm(data, num_folds=5, stratified = True, debug= False, test_size=0.1):\n",
    "    xtrain, xtest, ytrain, ytest = train_test_split(\n",
    "                                                data.drop('default', axis=1),\n",
    "                                                data['default'], \n",
    "                                                test_size = test_size, \n",
    "                                                stratify=data['default'],\n",
    "                                                random_state = 8,\n",
    "                                                shuffle=True)\n",
    "    \n",
    "    # Divide in training/validation and test data\n",
    "    folds = StratifiedKFold(n_splits= num_folds, shuffle=True, random_state=47)\n",
    "    \n",
    "    # Create arrays and dataframes to store results\n",
    "    oof_preds = np.zeros(xtrain.shape[0])\n",
    "    sub_preds = np.zeros(xtest.shape[0])\n",
    "    feature_importance_df = pd.DataFrame()\n",
    "    feats = xtrain.columns\n",
    "    \n",
    "    for n_fold, (train_idx, valid_idx) in enumerate(folds.split(xtrain, ytrain)):\n",
    "        train_x, train_y = xtrain.iloc[train_idx], ytrain.iloc[train_idx]\n",
    "        valid_x, valid_y = xtrain.iloc[valid_idx], ytrain.iloc[valid_idx]\n",
    "\n",
    "        clf = LGBMClassifier(\n",
    "            n_estimators=2000,\n",
    "            learning_rate=0.1,\n",
    "            num_leaves=123,\n",
    "            colsample_bytree=.8,\n",
    "            subsample=.9,\n",
    "            max_depth=15,\n",
    "            reg_alpha=.1,\n",
    "            reg_lambda=.1,\n",
    "            min_split_gain=.01,\n",
    "            min_child_weight=2,\n",
    "            nthread=4,\n",
    "            is_unbalance=True\n",
    "        )\n",
    "\n",
    "        clf.fit(train_x, train_y, \n",
    "                eval_set=[(train_x, train_y), (valid_x, valid_y)], \n",
    "                eval_metric= 'auc', \n",
    "                verbose= 1000, \n",
    "                early_stopping_rounds= 200)\n",
    "\n",
    "        oof_preds[valid_idx] = clf.predict_proba(valid_x, num_iteration=clf.best_iteration_)[:, 1]\n",
    "        sub_preds += clf.predict_proba(xtest, num_iteration=clf.best_iteration_)[:, 1] / folds.n_splits\n",
    "\n",
    "        print('Fold %2d AUC : %.6f' % (n_fold + 1, roc_auc_score(valid_y, oof_preds[valid_idx])))\n",
    "        del train_x, train_y, valid_x, valid_y\n",
    "        gc.collect()\n",
    "        \n",
    "    y_preds = sub_preds > 0.5\n",
    "    score(y_preds, ytest)\n",
    "    return clf"
   ]
  },
  {
   "cell_type": "code",
   "execution_count": 11,
   "metadata": {
    "ExecuteTime": {
     "end_time": "2020-12-30T05:25:01.180040Z",
     "start_time": "2020-12-30T05:24:49.894669Z"
    }
   },
   "outputs": [
    {
     "name": "stdout",
     "output_type": "stream",
     "text": [
      "[LightGBM] [Warning] num_threads is set with nthread=4, will be overridden by n_jobs=-1. Current value: num_threads=-1\n",
      "Training until validation scores don't improve for 200 rounds\n",
      "Early stopping, best iteration is:\n",
      "[18]\ttraining's auc: 0.959041\ttraining's binary_logloss: 0.328353\tvalid_1's auc: 0.771994\tvalid_1's binary_logloss: 0.472995\n",
      "Fold  1 AUC : 0.771994\n",
      "[LightGBM] [Warning] num_threads is set with nthread=4, will be overridden by n_jobs=-1. Current value: num_threads=-1\n",
      "Training until validation scores don't improve for 200 rounds\n",
      "Early stopping, best iteration is:\n",
      "[11]\ttraining's auc: 0.940046\ttraining's binary_logloss: 0.371802\tvalid_1's auc: 0.772789\tvalid_1's binary_logloss: 0.469641\n",
      "Fold  2 AUC : 0.772789\n",
      "[LightGBM] [Warning] num_threads is set with nthread=4, will be overridden by n_jobs=-1. Current value: num_threads=-1\n",
      "Training until validation scores don't improve for 200 rounds\n",
      "Early stopping, best iteration is:\n",
      "[8]\ttraining's auc: 0.93578\ttraining's binary_logloss: 0.389381\tvalid_1's auc: 0.746238\tvalid_1's binary_logloss: 0.482446\n",
      "Fold  3 AUC : 0.746238\n",
      "[LightGBM] [Warning] num_threads is set with nthread=4, will be overridden by n_jobs=-1. Current value: num_threads=-1\n",
      "Training until validation scores don't improve for 200 rounds\n",
      "Early stopping, best iteration is:\n",
      "[12]\ttraining's auc: 0.944098\ttraining's binary_logloss: 0.366754\tvalid_1's auc: 0.782067\tvalid_1's binary_logloss: 0.463924\n",
      "Fold  4 AUC : 0.782067\n",
      "[LightGBM] [Warning] num_threads is set with nthread=4, will be overridden by n_jobs=-1. Current value: num_threads=-1\n",
      "Training until validation scores don't improve for 200 rounds\n"
     ]
    },
    {
     "name": "stderr",
     "output_type": "stream",
     "text": [
      "findfont: Font family ['normal'] not found. Falling back to DejaVu Sans.\n"
     ]
    },
    {
     "name": "stdout",
     "output_type": "stream",
     "text": [
      "Early stopping, best iteration is:\n",
      "[8]\ttraining's auc: 0.9334\ttraining's binary_logloss: 0.391334\tvalid_1's auc: 0.747014\tvalid_1's binary_logloss: 0.482511\n",
      "Fold  5 AUC : 0.747014\n",
      "              precision    recall  f1-score   support\n",
      "\n",
      "       False       0.86      0.92      0.89       776\n",
      "        True       0.64      0.50      0.56       224\n",
      "\n",
      "    accuracy                           0.82      1000\n",
      "   macro avg       0.75      0.71      0.73      1000\n",
      "weighted avg       0.81      0.82      0.82      1000\n",
      "\n",
      "ROC AUC Score:  0.7087628865979382\n"
     ]
    },
    {
     "data": {
      "image/png": "[encoded data removed]",
      "text/plain": [
       "<Figure size 720x216 with 2 Axes>"
      ]
     },
     "metadata": {
      "needs_background": "light"
     },
     "output_type": "display_data"
    }
   ],
   "source": [
    "clf = kfold_lightgbm(data);"
   ]
  },
  {
   "cell_type": "code",
   "execution_count": 12,
   "metadata": {
    "ExecuteTime": {
     "end_time": "2020-12-30T05:25:05.060685Z",
     "start_time": "2020-12-30T05:25:05.052428Z"
    }
   },
   "outputs": [],
   "source": [
    "# This is the best so far, so we add it to the list\n",
    "predictions['lgbm'] = np.array(list(zip(*clf.predict_proba(xtest)))[1])"
   ]
  },
  {
   "cell_type": "markdown",
   "metadata": {},
   "source": [
    "### LGBM Round Two\n",
    "We now try to find the best hyperparameters for our model."
   ]
  },
  {
   "cell_type": "code",
   "execution_count": 13,
   "metadata": {
    "ExecuteTime": {
     "end_time": "2020-12-30T05:25:05.847721Z",
     "start_time": "2020-12-30T05:25:05.845138Z"
    }
   },
   "outputs": [],
   "source": [
    "import warnings\n",
    "from sklearn.exceptions import FitFailedWarning\n",
    "warnings.simplefilter('ignore', FitFailedWarning)"
   ]
  },
  {
   "cell_type": "code",
   "execution_count": 14,
   "metadata": {
    "ExecuteTime": {
     "end_time": "2020-12-30T05:25:06.093678Z",
     "start_time": "2020-12-30T05:25:06.086378Z"
    }
   },
   "outputs": [],
   "source": [
    "from scipy.stats import randint as sp_randint\n",
    "from scipy.stats import uniform as sp_uniform\n",
    "from sklearn.model_selection import RandomizedSearchCV, GridSearchCV\n",
    "\n",
    "param_test ={'n_estimators': [1000, 2000, 3000, 4000, 5000],\n",
    "             'num_leaves': [10, 50, 100, 150, 200], \n",
    "             'max_depth': [5, 10, 15, 20],\n",
    "             'min_child_samples': sp_randint(100, 500), \n",
    "             'subsample': [0.5, 0.75, 0.9, 1.0, 1.2], \n",
    "             'colsample_bytree': [0.4, 0.6, 0.8, 1],\n",
    "             'reg_alpha': [0, 0.05, 0.1, 0.5, 1, 2, 5, 7],\n",
    "             'reg_lambda': [0, 0.05, 0.1, 0.5, 1, 2, 5, 7],\n",
    "             'min_split_gain': [0.005, 0.01, 0.05, 0.1],\n",
    "             'min_child_weight': [1e-5, 1e-3, 1e-2, 1e-1, 1, 1e1, 1e2, 1e3, 1e4],\n",
    "            }"
   ]
  },
  {
   "cell_type": "code",
   "execution_count": 15,
   "metadata": {
    "ExecuteTime": {
     "end_time": "2020-12-30T05:25:06.371213Z",
     "start_time": "2020-12-30T05:25:06.367405Z"
    }
   },
   "outputs": [],
   "source": [
    "def learning_rate_010_decay_power_099(current_iter):\n",
    "    base_learning_rate = 0.1\n",
    "    lr = base_learning_rate  * np.power(.99, current_iter)\n",
    "    return lr if lr > 1e-3 else 1e-3"
   ]
  },
  {
   "cell_type": "code",
   "execution_count": 16,
   "metadata": {
    "ExecuteTime": {
     "end_time": "2020-12-30T05:25:06.678226Z",
     "start_time": "2020-12-30T05:25:06.669168Z"
    }
   },
   "outputs": [],
   "source": [
    "import lightgbm as lgb\n",
    "def lgbmtuning(data, num_folds=5, stratified = True, debug= False, test_size=0.1):\n",
    "    n_HP_points_to_test = 100\n",
    "    xtrain, xtest, ytrain, ytest = train_test_split(\n",
    "                                                data.drop('default', axis=1),\n",
    "                                                data['default'], \n",
    "                                                test_size = test_size, \n",
    "                                                stratify=data['default'],\n",
    "                                                random_state = 8,\n",
    "                                                shuffle=True)\n",
    "    \n",
    "    xtrain, xval, ytrain, yval = train_test_split(\n",
    "                                                xtrain,\n",
    "                                                ytrain, \n",
    "                                                test_size = test_size, \n",
    "                                                stratify=ytrain,\n",
    "                                                random_state = 8,\n",
    "                                                shuffle=True)\n",
    "    \n",
    "    fit_params={\"early_stopping_rounds\":30, \n",
    "                \"eval_metric\" : 'auc', \n",
    "                \"eval_set\" : [(xval, yval)],\n",
    "                'eval_names': ['valid'],\n",
    "                'callbacks': [lgb.reset_parameter(learning_rate=learning_rate_010_decay_power_099)],\n",
    "                'verbose': False,\n",
    "                'categorical_feature': 'auto'}\n",
    "\n",
    "    clf = lgb.LGBMClassifier(max_depth=-1, \n",
    "                             random_state=314, \n",
    "                             silent=True, \n",
    "                             metric='None', \n",
    "                             is_unbalance=True,\n",
    "                             n_jobs=7, \n",
    "                             n_estimators=5000)\n",
    "    \n",
    "    gs = RandomizedSearchCV(\n",
    "        estimator=clf, param_distributions=param_test, \n",
    "        n_iter=n_HP_points_to_test,\n",
    "        scoring='roc_auc',\n",
    "        cv=num_folds,\n",
    "        refit=True,\n",
    "        random_state=314,\n",
    "        verbose=True)\n",
    "    \n",
    "    gs.fit(xtrain, ytrain, **fit_params)\n",
    "    print(f'Best score reached: {gs.best_score_} with params: {gs.best_params_}')\n",
    "    y_preds = gs.predict(xtest)\n",
    "    score(y_preds, ytest)\n",
    "    return gs"
   ]
  },
  {
   "cell_type": "code",
   "execution_count": 17,
   "metadata": {
    "ExecuteTime": {
     "end_time": "2020-12-30T05:25:55.028969Z",
     "start_time": "2020-12-30T05:25:09.048403Z"
    }
   },
   "outputs": [
    {
     "name": "stdout",
     "output_type": "stream",
     "text": [
      "Fitting 5 folds for each of 100 candidates, totalling 500 fits\n"
     ]
    },
    {
     "name": "stderr",
     "output_type": "stream",
     "text": [
      "[Parallel(n_jobs=1)]: Using backend SequentialBackend with 1 concurrent workers.\n",
      "[Parallel(n_jobs=1)]: Done 500 out of 500 | elapsed:   45.5s finished\n"
     ]
    },
    {
     "name": "stdout",
     "output_type": "stream",
     "text": [
      "Best score reached: 0.7735526777792538 with params: {'colsample_bytree': 0.6, 'max_depth': 10, 'min_child_samples': 108, 'min_child_weight': 1e-05, 'min_split_gain': 0.1, 'n_estimators': 4000, 'num_leaves': 200, 'reg_alpha': 0.05, 'reg_lambda': 2, 'subsample': 0.75}\n",
      "              precision    recall  f1-score   support\n",
      "\n",
      "       False       0.88      0.83      0.86       776\n",
      "        True       0.51      0.61      0.56       224\n",
      "\n",
      "    accuracy                           0.78      1000\n",
      "   macro avg       0.70      0.72      0.71      1000\n",
      "weighted avg       0.80      0.78      0.79      1000\n",
      "\n",
      "ROC AUC Score:  0.7204528718703976\n"
     ]
    },
    {
     "data": {
      "image/png": "[encoded data removed]",
      "text/plain": [
       "<Figure size 720x216 with 2 Axes>"
      ]
     },
     "metadata": {
      "needs_background": "light"
     },
     "output_type": "display_data"
    }
   ],
   "source": [
    "gs = lgbmtuning(data)"
   ]
  },
  {
   "cell_type": "markdown",
   "metadata": {},
   "source": [
    "Because we chose to optimize `auc`, we actually traded off some accuracy. We'll add it to the mix."
   ]
  },
  {
   "cell_type": "code",
   "execution_count": 21,
   "metadata": {
    "ExecuteTime": {
     "end_time": "2020-12-30T05:26:46.258945Z",
     "start_time": "2020-12-30T05:26:46.250707Z"
    }
   },
   "outputs": [],
   "source": [
    "predictions['lgbm_opt'] = np.array(list(zip(*gs.predict_proba(xtest)))[1])"
   ]
  },
  {
   "cell_type": "code",
   "execution_count": 39,
   "metadata": {
    "ExecuteTime": {
     "end_time": "2020-12-30T05:30:44.365446Z",
     "start_time": "2020-12-30T05:30:44.180640Z"
    }
   },
   "outputs": [
    {
     "name": "stdout",
     "output_type": "stream",
     "text": [
      "              precision    recall  f1-score   support\n",
      "\n",
      "       False       0.89      0.90      0.90       776\n",
      "        True       0.65      0.60      0.62       224\n",
      "\n",
      "    accuracy                           0.84      1000\n",
      "   macro avg       0.77      0.75      0.76      1000\n",
      "weighted avg       0.83      0.84      0.83      1000\n",
      "\n",
      "ROC AUC Score:  0.7536588733431516\n"
     ]
    },
    {
     "data": {
      "image/png": "[encoded data removed]",
      "text/plain": [
       "<Figure size 720x216 with 2 Axes>"
      ]
     },
     "metadata": {
      "needs_background": "light"
     },
     "output_type": "display_data"
    }
   ],
   "source": [
    "concat = pd.concat([((pd.DataFrame(predictions)).mean(axis=1)>0.5), ytest.reset_index(drop=True)], axis=1)\n",
    "score(concat[0])"
   ]
  },
  {
   "cell_type": "raw",
   "metadata": {},
   "source": [
    "# Seems like the combination of both models does quite well! Happy with the results, we'll make it a class and pickle it."
   ]
  },
  {
   "cell_type": "code",
   "execution_count": 293,
   "metadata": {
    "ExecuteTime": {
     "end_time": "2020-12-30T06:11:39.372326Z",
     "start_time": "2020-12-30T06:11:39.344941Z"
    }
   },
   "outputs": [],
   "source": [
    "import lime\n",
    "from lime.lime_tabular import LimeTabularExplainer\n"
   ]
  },
  {
   "cell_type": "code",
   "execution_count": 361,
   "metadata": {
    "ExecuteTime": {
     "end_time": "2020-12-30T06:26:00.803890Z",
     "start_time": "2020-12-30T06:26:00.777423Z"
    }
   },
   "outputs": [],
   "source": [
    "class CreditDefaultPredictor:\n",
    "    def __init__(self, acc_model, auc_model, data):\n",
    "        self.acc_model = acc_model\n",
    "        self.auc_model = auc_model\n",
    "        self.fit_explainer(data)\n",
    "        \n",
    "    def fit_explainer(self, data):\n",
    "        self.explainer = LimeTabularExplainer(\n",
    "            training_data=np.array(data.drop('default', axis=1)),\n",
    "            mode='classification', \n",
    "            feature_names=list(data.drop('default', axis=1).columns),\n",
    "            training_labels=np.array(data['default']),\n",
    "            random_state=12)\n",
    "        \n",
    "    def predict_proba(self, sample):\n",
    "        \"\"\" Must be fed a dictionary\n",
    "        \"\"\"\n",
    "        if type(sample) != dict:\n",
    "            raise ValueError(\"Sample must be a dict of features.\")\n",
    "        sample = pd.DataFrame(sample, index=range(1))\n",
    "        probs = {}\n",
    "        probs['acc'] = self.acc_model.predict_proba(sample)[0][0]\n",
    "        probs['auc'] = self.auc_model.predict_proba(sample)[0][0]\n",
    "        return pd.Series(probs)\n",
    "    \n",
    "    def predict(self, sample, engineer_features=False):\n",
    "        if engineer_features:\n",
    "            sample = dict(self.engineer_features(sample).iloc[0])\n",
    "        probs = self.predict_proba(sample)\n",
    "        return probs.mean() > 0.5\n",
    "    \n",
    "    def predict_proba_many_from_df(self, samples):\n",
    "        predictions = {\n",
    "            'acc': np.array(list(zip(*self.acc_model.predict_proba(samples)))[1]),\n",
    "            'auc': np.array(list(zip(*self.auc_model.predict_proba(samples)))[1])\n",
    "        }\n",
    "        return predictions\n",
    "    \n",
    "    def predict_many_from_df(self, samples):\n",
    "        probs = self.predict_proba_many_from_df(samples)\n",
    "        return pd.DataFrame(predictions).mean(axis=1)>0.5\n",
    "    \n",
    "    def explain_prediction(self, sample, engineer_features=False):\n",
    "        if engineer_features:\n",
    "            sample = dict(self.engineer_features(sample).iloc[0])\n",
    "        sample = pd.Series(sample)\n",
    "        exp = self.explainer.explain_instance(sample, \n",
    "                                        self.predict_proba_explainer,\n",
    "                                        num_features=8)\n",
    "        exp.show_in_notebook(show_table=True, show_all=True)\n",
    "        \n",
    "    def predict_proba_explainer(self, sample):\n",
    "        return (self.acc_model.predict_proba(sample) +\n",
    "                self.auc_model.predict_proba(sample)) / 2\n",
    "    \n",
    "    def engineer_features(self, sample):\n",
    "        if 'ID' in sample.keys():\n",
    "            del sample['ID']\n",
    "        if 'default.payment.next.month' in sample.keys():\n",
    "            del sample['default.payment.next.month']\n",
    "            \n",
    "        sample = pd.DataFrame(sample, index=range(1))\n",
    "        sample['EDUCATION'] = sample['EDUCATION'].replace(5, 4).replace(6, 4).replace(0, 4)\n",
    "        sample['MARRIAGE'] = sample['MARRIAGE'].replace(0, 3)\n",
    "        \n",
    "        sample['MAX_PAY'] = sample.filter(like='PAY_AMT').max(axis=1)\n",
    "        sample['MIN_PAY'] = sample.filter(like='PAY_AMT').min(axis=1)\n",
    "        sample['AVE_PAY'] = sample.filter(like='PAY_AMT').mean(axis=1)\n",
    "        sample['STD_PAY'] = sample.filter(like='PAY_AMT').std(axis=1)\n",
    "\n",
    "        sample['MAX_BILL'] = sample.filter(like='BILL').max(axis=1)\n",
    "        sample['MIN_BILL'] = sample.filter(like='BILL').min(axis=1)\n",
    "        sample['AVE_BILL'] = sample.filter(like='BILL').mean(axis=1)\n",
    "        sample['STD_BILL'] = sample.filter(like='BILL').std(axis=1)\n",
    "\n",
    "        sample['NEVER_USED'] = (sample.filter(regex='PAY_[0, 2-9]')==-2).all(axis=1).astype(int)\n",
    "        sample['MONTHS_UNUSED'] = (sample.filter(regex='PAY_[1-9]')==-2).sum(axis=1).astype(int)\n",
    "\n",
    "        sample['NUM_LIMIT_BAL_BREACH'] = (sample.filter(like='BILL_AM')\n",
    "                                             .gt(sample['LIMIT_BAL'], axis=0)).sum(axis=1)\n",
    "\n",
    "        sample['NUM_PAID_EARLY'] = sample.filter(like='BILL_AMT').lt(0, axis=0).sum(axis=1)\n",
    "\n",
    "        sample['AMOUNT_BREACHED_5'] = (sample['BILL_AMT5'] - (sample['BILL_AMT6'] - sample['PAY_AMT5'])) / sample['LIMIT_BAL']\n",
    "        sample['AMOUNT_BREACHED_4'] = (sample['BILL_AMT4'] - (sample['BILL_AMT5'] - sample['PAY_AMT4'])) / sample['LIMIT_BAL']\n",
    "        sample['AMOUNT_BREACHED_3'] = (sample['BILL_AMT3'] - (sample['BILL_AMT4'] - sample['PAY_AMT3'])) / sample['LIMIT_BAL']\n",
    "        sample['AMOUNT_BREACHED_2'] = (sample['BILL_AMT2'] - (sample['BILL_AMT3'] - sample['PAY_AMT2'])) / sample['LIMIT_BAL']\n",
    "        sample['AMOUNT_BREACHED_1'] = (sample['BILL_AMT1'] - (sample['BILL_AMT2'] - sample['PAY_AMT1'])) / sample['LIMIT_BAL']\n",
    "\n",
    "        sample['BREACH_AVE'] = sample.filter(like='AMOUNT_BREACHED').mean(axis=1)\n",
    "        sample['BREACH_MAX'] = sample.filter(like='AMOUNT_BREACHED').max(axis=1)\n",
    "        sample['BREACH_MIN'] = sample.filter(like='AMOUNT_BREACHED').min(axis=1)\n",
    "        sample['BREACH_STD'] = sample.filter(like='AMOUNT_BREACHED').std(axis=1)\n",
    "\n",
    "        # Because larger PAY_ numbers indicate larger delay, we penalize a client based on\n",
    "        # how much they owe, and when they pay it.\n",
    "        sample['DELAY_PENALTY_1'] = sample['PAY_0'] * sample['BILL_AMT1']\n",
    "        sample['DELAY_PENALTY_2'] = sample['PAY_2'] * sample['BILL_AMT2']\n",
    "        sample['DELAY_PENALTY_3'] = sample['PAY_3'] * sample['BILL_AMT3']\n",
    "        sample['DELAY_PENALTY_4'] = sample['PAY_4'] * sample['BILL_AMT4']\n",
    "        sample['DELAY_PENALTY_5'] = sample['PAY_5'] * sample['BILL_AMT5']\n",
    "        sample['DELAY_PENALTY_6'] = sample['PAY_6'] * sample['BILL_AMT6']\n",
    "        \n",
    "        # Convert all negative bills to 0.\n",
    "        x = sample.filter(like='BILL')\n",
    "        x = x.where(x > 0, 0)\n",
    "        sample.loc[:, sample.filter(like='BILL').columns] = x\n",
    "        \n",
    "        ## Box Cox Transformation\n",
    "        lmbd = 0.2 \n",
    "        for col in sample.filter(like='AMT').columns:\n",
    "            sample[col] = (sample[col]+1.0).apply(lambda x: (x**lmbd-1)/lmbd )\n",
    "            \n",
    "        # One Hot Encoding - Must add the pre-existing values..\n",
    "        sample['SEX'] = sample['SEX'].map({1:\"male\", 2:'female'})\n",
    "        sample['EDUCATION'] = sample['EDUCATION'].map({1:'grad_school', \n",
    "                                                   2:'university', \n",
    "                                                   3:'high_school', \n",
    "                                                   4:'others', \n",
    "                                                   5:'others', \n",
    "                                                   6:'others'})\n",
    "        sample['MARRIAGE'] = sample['MARRIAGE'].map({1:'married', 2:'single', 3:'other'})\n",
    "        categorical = pd.get_dummies(sample[['SEX', 'EDUCATION', 'MARRIAGE']])\n",
    "        sample = pd.concat([sample.drop(['MARRIAGE', 'SEX', 'EDUCATION'], axis=1), categorical], axis=1)\n",
    "        for i in ['SEX_male', 'SEX_female', 'EDUCATION_grad_school', \n",
    "                  'EDUCATION_university', 'EDUCATION_high_school', 'EDUCATION_others',\n",
    "                 'MARRIAGE_married', 'MARRIAGE_single', 'MARRIAGE_other']:\n",
    "            if i not in sample.columns:\n",
    "                sample[i] = 0\n",
    "        return sample"
   ]
  },
  {
   "cell_type": "code",
   "execution_count": 362,
   "metadata": {
    "ExecuteTime": {
     "end_time": "2020-12-30T06:26:01.273717Z",
     "start_time": "2020-12-30T06:26:00.929996Z"
    }
   },
   "outputs": [],
   "source": [
    "predictor = CreditDefaultPredictor(clf, gs, data)"
   ]
  },
  {
   "cell_type": "code",
   "execution_count": 363,
   "metadata": {
    "ExecuteTime": {
     "end_time": "2020-12-30T06:26:01.560531Z",
     "start_time": "2020-12-30T06:26:01.278560Z"
    }
   },
   "outputs": [
    {
     "name": "stdout",
     "output_type": "stream",
     "text": [
      "              precision    recall  f1-score   support\n",
      "\n",
      "       False       0.89      0.90      0.90       776\n",
      "        True       0.65      0.60      0.62       224\n",
      "\n",
      "    accuracy                           0.84      1000\n",
      "   macro avg       0.77      0.75      0.76      1000\n",
      "weighted avg       0.83      0.84      0.83      1000\n",
      "\n",
      "ROC AUC Score:  0.7536588733431516\n"
     ]
    },
    {
     "data": {
      "image/png": "[encoded data removed]",
      "text/plain": [
       "<Figure size 720x216 with 2 Axes>"
      ]
     },
     "metadata": {
      "needs_background": "light"
     },
     "output_type": "display_data"
    }
   ],
   "source": [
    "score(predictor.predict_many_from_df(xtest), ytest)"
   ]
  },
  {
   "cell_type": "code",
   "execution_count": 364,
   "metadata": {
    "ExecuteTime": {
     "end_time": "2020-12-30T06:26:01.568782Z",
     "start_time": "2020-12-30T06:26:01.564529Z"
    }
   },
   "outputs": [],
   "source": [
    "sample = dict(xtest.iloc[0])"
   ]
  },
  {
   "cell_type": "code",
   "execution_count": 365,
   "metadata": {
    "ExecuteTime": {
     "end_time": "2020-12-30T06:26:01.591356Z",
     "start_time": "2020-12-30T06:26:01.572697Z"
    }
   },
   "outputs": [
    {
     "data": {
      "text/plain": [
       "True"
      ]
     },
     "execution_count": 365,
     "metadata": {},
     "output_type": "execute_result"
    }
   ],
   "source": [
    "predictor.predict(sample)"
   ]
  },
  {
   "cell_type": "code",
   "execution_count": 366,
   "metadata": {
    "ExecuteTime": {
     "end_time": "2020-12-30T06:26:01.637509Z",
     "start_time": "2020-12-30T06:26:01.594488Z"
    }
   },
   "outputs": [],
   "source": [
    "raw_data = pd.read_csv('../dataset/data.csv')"
   ]
  },
  {
   "cell_type": "code",
   "execution_count": 367,
   "metadata": {
    "ExecuteTime": {
     "end_time": "2020-12-30T06:26:01.758449Z",
     "start_time": "2020-12-30T06:26:01.662502Z"
    }
   },
   "outputs": [
    {
     "data": {
      "text/plain": [
       "False"
      ]
     },
     "execution_count": 367,
     "metadata": {},
     "output_type": "execute_result"
    }
   ],
   "source": [
    "predictor.predict(dict(raw_data.iloc[0]), engineer_features=True)"
   ]
  },
  {
   "cell_type": "code",
   "execution_count": null,
   "metadata": {
    "ExecuteTime": {
     "end_time": "2020-12-30T06:26:01.881896Z",
     "start_time": "2020-12-30T06:26:01.797007Z"
    }
   },
   "outputs": [],
   "source": [
    "predictor.explain_prediction(sample, engineer_features=False)"
   ]
  },
  {
   "cell_type": "markdown",
   "metadata": {},
   "source": [
    "# Pickled Model"
   ]
  },
  {
   "cell_type": "code",
   "execution_count": 370,
   "metadata": {
    "ExecuteTime": {
     "end_time": "2020-12-30T06:26:14.982036Z",
     "start_time": "2020-12-30T06:26:14.978889Z"
    }
   },
   "outputs": [],
   "source": [
    "import dill as pickle"
   ]
  },
  {
   "cell_type": "code",
   "execution_count": 371,
   "metadata": {
    "ExecuteTime": {
     "end_time": "2020-12-30T06:26:15.426284Z",
     "start_time": "2020-12-30T06:26:15.096077Z"
    }
   },
   "outputs": [],
   "source": [
    "pickle.dump(predictor, open('predictor.pkl', 'wb'))"
   ]
  },
  {
   "cell_type": "code",
   "execution_count": null,
   "metadata": {},
   "outputs": [],
   "source": []
  },
  {
   "cell_type": "code",
   "execution_count": null,
   "metadata": {},
   "outputs": [],
   "source": []
  },
  {
   "cell_type": "code",
   "execution_count": null,
   "metadata": {},
   "outputs": [],
   "source": []
  },
  {
   "cell_type": "code",
   "execution_count": null,
   "metadata": {},
   "outputs": [],
   "source": []
  },
  {
   "cell_type": "code",
   "execution_count": null,
   "metadata": {},
   "outputs": [],
   "source": []
  },
  {
   "cell_type": "code",
   "execution_count": null,
   "metadata": {},
   "outputs": [],
   "source": []
  },
  {
   "cell_type": "code",
   "execution_count": null,
   "metadata": {},
   "outputs": [],
   "source": []
  },
  {
   "cell_type": "code",
   "execution_count": null,
   "metadata": {},
   "outputs": [],
   "source": []
  },
  {
   "cell_type": "code",
   "execution_count": null,
   "metadata": {},
   "outputs": [],
   "source": []
  },
  {
   "cell_type": "code",
   "execution_count": null,
   "metadata": {},
   "outputs": [],
   "source": []
  },
  {
   "cell_type": "code",
   "execution_count": null,
   "metadata": {},
   "outputs": [],
   "source": []
  },
  {
   "cell_type": "code",
   "execution_count": null,
   "metadata": {},
   "outputs": [],
   "source": []
  },
  {
   "cell_type": "code",
   "execution_count": null,
   "metadata": {},
   "outputs": [],
   "source": []
  },
  {
   "cell_type": "code",
   "execution_count": null,
   "metadata": {},
   "outputs": [],
   "source": []
  },
  {
   "cell_type": "code",
   "execution_count": null,
   "metadata": {},
   "outputs": [],
   "source": []
  }
 ],
 "metadata": {
  "kernelspec": {
   "display_name": "myenv",
   "language": "python",
   "name": "myenv"
  },
  "language_info": {
   "codemirror_mode": {
    "name": "ipython",
    "version": 3
   },
   "file_extension": ".py",
   "mimetype": "text/x-python",
   "name": "python",
   "nbconvert_exporter": "python",
   "pygments_lexer": "ipython3",
   "version": "3.8.6"
  }
 },
 "nbformat": 4,
 "nbformat_minor": 4
}
